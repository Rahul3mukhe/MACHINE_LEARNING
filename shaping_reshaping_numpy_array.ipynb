{
  "nbformat": 4,
  "nbformat_minor": 0,
  "metadata": {
    "colab": {
      "provenance": []
    },
    "kernelspec": {
      "name": "python3",
      "display_name": "Python 3"
    },
    "language_info": {
      "name": "python"
    }
  },
  "cells": [
    {
      "cell_type": "markdown",
      "source": [
        "SHAPE"
      ],
      "metadata": {
        "id": "MzxJ14jsWkLo"
      }
    },
    {
      "cell_type": "code",
      "execution_count": 1,
      "metadata": {
        "colab": {
          "base_uri": "https://localhost:8080/"
        },
        "id": "vaej-Qld_clc",
        "outputId": "9fe35d21-3361-43d7-e532-8d9499fcd806"
      },
      "outputs": [
        {
          "output_type": "stream",
          "name": "stdout",
          "text": [
            "[[1 5]\n",
            " [5 9]]\n",
            "\n",
            "(2, 2)\n"
          ]
        }
      ],
      "source": [
        "import numpy as np\n",
        "var = np.array([[1,5],[5,9]])\n",
        "print(var)\n",
        "print()\n",
        "print(var.shape)"
      ]
    },
    {
      "cell_type": "code",
      "source": [
        "var1 = np.array([1,2,3,4],ndmin= 4)\n",
        "print(var1)\n",
        "print(var1.ndim)\n",
        "print()\n",
        "print(var1.shape)"
      ],
      "metadata": {
        "colab": {
          "base_uri": "https://localhost:8080/"
        },
        "id": "dz9tljh4Xi_5",
        "outputId": "ccf8f7ad-6b85-45a0-d373-35e3b92c9f26"
      },
      "execution_count": 10,
      "outputs": [
        {
          "output_type": "stream",
          "name": "stdout",
          "text": [
            "[[[[1 2 3 4]]]]\n",
            "4\n",
            "\n",
            "(1, 1, 1, 4)\n"
          ]
        }
      ]
    },
    {
      "cell_type": "markdown",
      "source": [
        "RESHAPE"
      ],
      "metadata": {
        "id": "VTXRQ7HQWo6B"
      }
    },
    {
      "cell_type": "code",
      "source": [
        "var2 = np.array([1,3,5,7,9,3])\n",
        "x = var2.reshape(2,3)\n",
        "print(x)\n",
        "print()\n",
        "print(x.shape)\n",
        "print(var2)"
      ],
      "metadata": {
        "colab": {
          "base_uri": "https://localhost:8080/"
        },
        "id": "WeN_RP2QWUvL",
        "outputId": "e598b59b-4359-42d1-c3ed-4673f433b2e2"
      },
      "execution_count": 11,
      "outputs": [
        {
          "output_type": "stream",
          "name": "stdout",
          "text": [
            "[[1 3 5]\n",
            " [7 9 3]]\n",
            "\n",
            "(2, 3)\n",
            "[1 3 5 7 9 3]\n"
          ]
        }
      ]
    },
    {
      "cell_type": "code",
      "source": [
        "var3 = np.array([1,2,4,3,5,6,7,8,5,3,6,7])\n",
        "print(var3)\n",
        "print(var3.ndim)\n",
        "\n",
        "print()\n",
        "x1 = var3.reshape(6,2)\n",
        "print(x1)\n",
        "print(x1.ndim)"
      ],
      "metadata": {
        "colab": {
          "base_uri": "https://localhost:8080/"
        },
        "id": "fOeR5YmzYH7_",
        "outputId": "54e2a962-fa56-4480-f6eb-58f36ea15a39"
      },
      "execution_count": 12,
      "outputs": [
        {
          "output_type": "stream",
          "name": "stdout",
          "text": [
            "[1 2 4 3 5 6 7 8 5 3 6 7]\n",
            "1\n",
            "\n",
            "[[1 2]\n",
            " [4 3]\n",
            " [5 6]\n",
            " [7 8]\n",
            " [5 3]\n",
            " [6 7]]\n",
            "2\n"
          ]
        }
      ]
    },
    {
      "cell_type": "code",
      "source": [
        "var3 = np.array([1,2,4,3,5,6,7,8,5,3,6,7])\n",
        "print(var3)\n",
        "print(var3.ndim)\n",
        "\n",
        "print()\n",
        "x1 = var3.reshape(6,2)\n",
        "print(x1)\n",
        "print(x1.ndim)\n",
        "x2 = x1.reshape(-1)\n",
        "print(x2)\n",
        "print(x2.ndim)\n"
      ],
      "metadata": {
        "colab": {
          "base_uri": "https://localhost:8080/"
        },
        "id": "y-VIpI0kaLPD",
        "outputId": "8b03f78e-2001-4ce1-b5b9-e1eea743f9fc"
      },
      "execution_count": 13,
      "outputs": [
        {
          "output_type": "stream",
          "name": "stdout",
          "text": [
            "[1 2 4 3 5 6 7 8 5 3 6 7]\n",
            "1\n",
            "\n",
            "[[1 2]\n",
            " [4 3]\n",
            " [5 6]\n",
            " [7 8]\n",
            " [5 3]\n",
            " [6 7]]\n",
            "2\n",
            "[1 2 4 3 5 6 7 8 5 3 6 7]\n",
            "1\n"
          ]
        }
      ]
    }
  ]
}