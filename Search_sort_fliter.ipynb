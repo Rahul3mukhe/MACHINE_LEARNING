{
  "nbformat": 4,
  "nbformat_minor": 0,
  "metadata": {
    "colab": {
      "provenance": []
    },
    "kernelspec": {
      "name": "python3",
      "display_name": "Python 3"
    },
    "language_info": {
      "name": "python"
    }
  },
  "cells": [
    {
      "cell_type": "markdown",
      "source": [
        "SEARCH"
      ],
      "metadata": {
        "id": "6l0jUS87VOkC"
      }
    },
    {
      "cell_type": "code",
      "execution_count": 6,
      "metadata": {
        "colab": {
          "base_uri": "https://localhost:8080/"
        },
        "id": "gEOyYCniUyyC",
        "outputId": "2fbb1aac-9aa6-4bf1-ef76-818e5dd23df3"
      },
      "outputs": [
        {
          "output_type": "stream",
          "name": "stdout",
          "text": [
            "(array([0, 1, 2, 4, 5]),)\n",
            "[ 2  4  6  7  8 10]\n"
          ]
        }
      ],
      "source": [
        "import numpy as np\n",
        "var = np.array([2,4,6,7,8,10])\n",
        "x = np.where(( var%2 )== 0)\n",
        "print(x)\n",
        "print(var)"
      ]
    },
    {
      "cell_type": "code",
      "source": [
        "var = np.array([1,2,3,4,4,3,1,1,4,5])\n",
        "x = np.searchsorted( var, 3)\n",
        "print(x)\n",
        "print(var)"
      ],
      "metadata": {
        "colab": {
          "base_uri": "https://localhost:8080/"
        },
        "id": "TV97JIUHVnbY",
        "outputId": "cd8e574a-a210-4f68-c116-725fc64bb9cf"
      },
      "execution_count": 9,
      "outputs": [
        {
          "output_type": "stream",
          "name": "stdout",
          "text": [
            "2\n",
            "[1 2 3 4 4 3 1 1 4 5]\n"
          ]
        }
      ]
    },
    {
      "cell_type": "markdown",
      "source": [
        "SORT FUNCTION"
      ],
      "metadata": {
        "id": "72f4bwRWYvsB"
      }
    },
    {
      "cell_type": "code",
      "source": [
        "var_1 = np.array([4,3,2,1,8,7,6,5])\n",
        "print(np.sort(var_1))\n",
        "print(var_1)"
      ],
      "metadata": {
        "colab": {
          "base_uri": "https://localhost:8080/"
        },
        "id": "MlERUOexX0kp",
        "outputId": "10ecc2b9-c79e-4bc1-e448-b749afc05b82"
      },
      "execution_count": 10,
      "outputs": [
        {
          "output_type": "stream",
          "name": "stdout",
          "text": [
            "[1 2 3 4 5 6 7 8]\n",
            "[4 3 2 1 8 7 6 5]\n"
          ]
        }
      ]
    },
    {
      "cell_type": "code",
      "source": [
        "var_2 = np.array([\"a\",\"c\",\"g\",\"b\",\"d\"])\n",
        "print(np.sort(var_2))\n",
        "print(var_2)"
      ],
      "metadata": {
        "colab": {
          "base_uri": "https://localhost:8080/"
        },
        "id": "fRxF8TUfcohF",
        "outputId": "6e10d9db-7def-4ce9-ad5e-c606bd7a74dc"
      },
      "execution_count": 11,
      "outputs": [
        {
          "output_type": "stream",
          "name": "stdout",
          "text": [
            "['a' 'b' 'c' 'd' 'g']\n",
            "['a' 'c' 'g' 'b' 'd']\n"
          ]
        }
      ]
    },
    {
      "cell_type": "markdown",
      "source": [
        "FILTER ARRAY"
      ],
      "metadata": {
        "id": "Z75hKy_3dQLQ"
      }
    },
    {
      "cell_type": "code",
      "source": [
        "var_3 = np.array([1,4,67,3,6,3,57])\n",
        "f=[True,False,False,True,False,False,True]\n",
        "new_a = var_3[f]\n",
        "print(new_a)\n",
        "print(type(new_a))"
      ],
      "metadata": {
        "colab": {
          "base_uri": "https://localhost:8080/"
        },
        "id": "cjO5BGnLc_5X",
        "outputId": "decc4728-d40b-4d2a-ad19-1a9bb07a5c4f"
      },
      "execution_count": 13,
      "outputs": [
        {
          "output_type": "stream",
          "name": "stdout",
          "text": [
            "[ 1  3 57]\n",
            "<class 'numpy.ndarray'>\n"
          ]
        }
      ]
    },
    {
      "cell_type": "code",
      "source": [],
      "metadata": {
        "id": "pO0scQqudwH7"
      },
      "execution_count": null,
      "outputs": []
    }
  ]
}