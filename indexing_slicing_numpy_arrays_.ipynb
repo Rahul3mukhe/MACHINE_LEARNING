{
  "nbformat": 4,
  "nbformat_minor": 0,
  "metadata": {
    "colab": {
      "provenance": []
    },
    "kernelspec": {
      "name": "python3",
      "display_name": "Python 3"
    },
    "language_info": {
      "name": "python"
    }
  },
  "cells": [
    {
      "cell_type": "markdown",
      "source": [
        "INDEXING"
      ],
      "metadata": {
        "id": "mcWlHeF_jNyp"
      }
    },
    {
      "cell_type": "code",
      "execution_count": 5,
      "metadata": {
        "colab": {
          "base_uri": "https://localhost:8080/"
        },
        "id": "I4LT25F3iMqL",
        "outputId": "785a6d65-2f2b-4e28-f735-f3faf58f8233"
      },
      "outputs": [
        {
          "output_type": "stream",
          "name": "stdout",
          "text": [
            "[1 2 3]\n",
            "2\n",
            "2\n"
          ]
        }
      ],
      "source": [
        "import numpy as np\n",
        "x = np.array([1,2,3])\n",
        "print(x)\n",
        "print(x[1])\n",
        "print(x[-2])\n"
      ]
    },
    {
      "cell_type": "code",
      "source": [
        "x = np.array([[9,6,4],[3,6,9]])\n",
        "print(x)\n",
        "print(x[0,1])\n",
        "print(x.ndim)"
      ],
      "metadata": {
        "colab": {
          "base_uri": "https://localhost:8080/"
        },
        "id": "hDATUEdtjAYH",
        "outputId": "749c90dc-21e0-43d7-b6d9-28172c946b1a"
      },
      "execution_count": 12,
      "outputs": [
        {
          "output_type": "stream",
          "name": "stdout",
          "text": [
            "[[9 6 4]\n",
            " [3 6 9]]\n",
            "6\n",
            "2\n"
          ]
        }
      ]
    },
    {
      "cell_type": "code",
      "source": [
        "y = np.array([[[1,2],[5,6]]])\n",
        "print(y)\n",
        "print(y.ndim)\n",
        "print(y[0,1,1])\n"
      ],
      "metadata": {
        "colab": {
          "base_uri": "https://localhost:8080/"
        },
        "id": "7oK61vDXjnBy",
        "outputId": "16e5db58-9fdc-433c-88d0-17084a31dad6"
      },
      "execution_count": 19,
      "outputs": [
        {
          "output_type": "stream",
          "name": "stdout",
          "text": [
            "[[[1 2]\n",
            "  [5 6]]]\n",
            "3\n",
            "6\n"
          ]
        }
      ]
    },
    {
      "cell_type": "code",
      "source": [
        "a = np.array([[[1,3,5],[2,4,6]],[[1,3,5],[2,4,6]]])\n",
        "print(a)\n",
        "print(a.ndim)\n",
        "print(a[1,1,2])"
      ],
      "metadata": {
        "colab": {
          "base_uri": "https://localhost:8080/"
        },
        "id": "9X3cyh9wkkfU",
        "outputId": "29507a88-9f1c-40cb-89ce-6a2fb4093aa2"
      },
      "execution_count": 22,
      "outputs": [
        {
          "output_type": "stream",
          "name": "stdout",
          "text": [
            "[[[1 3 5]\n",
            "  [2 4 6]]\n",
            "\n",
            " [[1 3 5]\n",
            "  [2 4 6]]]\n",
            "3\n",
            "6\n"
          ]
        }
      ]
    },
    {
      "cell_type": "markdown",
      "source": [
        "SLICING"
      ],
      "metadata": {
        "id": "c_wE4cfGmDVF"
      }
    },
    {
      "cell_type": "code",
      "source": [
        "a1 = np.array([1,2,3,4,5])\n",
        "print(a1)\n",
        "print()\n",
        "print(\"from index 1 to 3 : \",a1[1:3])\n",
        "print(\"from 1 to end : \",a1[1:])\n",
        "print(\"start to 3 : \",a1[:3])\n",
        "print(\"stop: \",a1[::2])                  #jumps 1 from btwn"
      ],
      "metadata": {
        "colab": {
          "base_uri": "https://localhost:8080/"
        },
        "id": "1NUEUdAol1dd",
        "outputId": "5fba2946-9dd7-408a-ba2d-418d704299d7"
      },
      "execution_count": 26,
      "outputs": [
        {
          "output_type": "stream",
          "name": "stdout",
          "text": [
            "[1 2 3 4 5]\n",
            "\n",
            "from index 1 to 3 :  [2 3]\n",
            "from 1 to end :  [2 3 4 5]\n",
            "start to 3 :  [1 2 3]\n",
            "stop:  [1 3 5]\n"
          ]
        }
      ]
    },
    {
      "cell_type": "code",
      "source": [
        "b1 = np.array([[1,2,3,4,5],[9,8,7,6,5],[2,4,6,8,10]])\n",
        "print(b1)\n",
        "print()\n",
        "print(\"8 to 5 : \",b1[1,1:])\n",
        "print(\"12 to 15 : \",b1[2,0:3])"
      ],
      "metadata": {
        "colab": {
          "base_uri": "https://localhost:8080/"
        },
        "id": "zWdqLN8EnTrq",
        "outputId": "bcc20be0-5cf3-4876-82d9-7cb8cb445c75"
      },
      "execution_count": 28,
      "outputs": [
        {
          "output_type": "stream",
          "name": "stdout",
          "text": [
            "[[ 1  2  3  4  5]\n",
            " [ 9  8  7  6  5]\n",
            " [ 2  4  6  8 10]]\n",
            "\n",
            "8 to 5 :  [8 7 6 5]\n",
            "12 to 15 :  [2 4 6]\n"
          ]
        }
      ]
    },
    {
      "cell_type": "code",
      "source": [],
      "metadata": {
        "id": "GIrnxhnYpEei"
      },
      "execution_count": null,
      "outputs": []
    }
  ]
}