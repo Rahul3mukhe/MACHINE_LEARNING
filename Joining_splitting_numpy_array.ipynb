{
  "nbformat": 4,
  "nbformat_minor": 0,
  "metadata": {
    "colab": {
      "provenance": []
    },
    "kernelspec": {
      "name": "python3",
      "display_name": "Python 3"
    },
    "language_info": {
      "name": "python"
    }
  },
  "cells": [
    {
      "cell_type": "markdown",
      "source": [
        "# **JOINING ARRAY**"
      ],
      "metadata": {
        "id": "Z0EWZBXgRz3T"
      }
    },
    {
      "cell_type": "code",
      "execution_count": 1,
      "metadata": {
        "colab": {
          "base_uri": "https://localhost:8080/"
        },
        "id": "tpcWle9LMDx7",
        "outputId": "73b3c9a8-c2e2-43c7-d898-05ea909c0f65"
      },
      "outputs": [
        {
          "output_type": "stream",
          "name": "stdout",
          "text": [
            "[ 1  2  3  4  5  6  7  8  9 10]\n"
          ]
        }
      ],
      "source": [
        "import numpy as np\n",
        "x = np.array([1,2,3,4,5])\n",
        "y = np.array([6,7,8,9,10])\n",
        "c = np.concatenate((x,y))\n",
        "print(c)\n"
      ]
    },
    {
      "cell_type": "code",
      "source": [
        "a = np.array([[1,2,3,4],[5,6,7,8]])\n",
        "b = np.array([[9,10,11,12],[13,14,15,16]])\n",
        "ar_new = np.concatenate((a,b),axis=1)\n",
        "print(a)\n",
        "print()\n",
        "print(b)\n",
        "print()\n",
        "print(ar_new)"
      ],
      "metadata": {
        "colab": {
          "base_uri": "https://localhost:8080/"
        },
        "id": "tH1n5rxgMbOM",
        "outputId": "d6cc6c8f-3c98-4c22-9410-d54ca229fd3c"
      },
      "execution_count": 4,
      "outputs": [
        {
          "output_type": "stream",
          "name": "stdout",
          "text": [
            "[[1 2 3 4]\n",
            " [5 6 7 8]]\n",
            "\n",
            "[[ 9 10 11 12]\n",
            " [13 14 15 16]]\n",
            "\n",
            "[[ 1  2  3  4  9 10 11 12]\n",
            " [ 5  6  7  8 13 14 15 16]]\n"
          ]
        }
      ]
    },
    {
      "cell_type": "code",
      "source": [
        "import numpy as np\n",
        "var_1 = np.array([1,2,3,4,5])\n",
        "var_2= np.array([6,7,8,9,10])\n",
        "\n",
        "ar_new1 = np.stack((var_1,var_2),axis = 1)     #using stac function joins 2 array with differnt 2 arrays\n",
        "print(ar_new1)\n",
        "ar_new2 = np.hstack((var_1,var_2))             #row\n",
        "ar_new3 = np.vstack((var_1,var_2))             #column vertical\n",
        "ar_new4 = np.dstack((var_1,var_2))              #height\n",
        "print()\n",
        "print(ar_new2)\n",
        "print()\n",
        "print(ar_new3)\n",
        "print()\n",
        "print(ar_new4)"
      ],
      "metadata": {
        "colab": {
          "base_uri": "https://localhost:8080/"
        },
        "id": "3-rzS14fNLuS",
        "outputId": "54f2d88f-05e7-444a-a34b-d212e8396d4d"
      },
      "execution_count": 10,
      "outputs": [
        {
          "output_type": "stream",
          "name": "stdout",
          "text": [
            "[[ 1  6]\n",
            " [ 2  7]\n",
            " [ 3  8]\n",
            " [ 4  9]\n",
            " [ 5 10]]\n",
            "\n",
            "[ 1  2  3  4  5  6  7  8  9 10]\n",
            "\n",
            "[[ 1  2  3  4  5]\n",
            " [ 6  7  8  9 10]]\n",
            "\n",
            "[[[ 1  6]\n",
            "  [ 2  7]\n",
            "  [ 3  8]\n",
            "  [ 4  9]\n",
            "  [ 5 10]]]\n"
          ]
        }
      ]
    },
    {
      "cell_type": "markdown",
      "source": [
        "# **SPLIT ARRAY**"
      ],
      "metadata": {
        "id": "-VAzfSCeR_1l"
      }
    },
    {
      "cell_type": "code",
      "source": [
        "var = np.array([1,2,3,4,5,6,7,8,9,10])\n",
        "print(var)\n",
        "print()\n",
        "ar_new = np.split(var,5)\n",
        "print(ar_new)\n",
        "print(type(ar_new))\n",
        "print(ar_new[1])"
      ],
      "metadata": {
        "colab": {
          "base_uri": "https://localhost:8080/"
        },
        "id": "pfhdFuyWNwQv",
        "outputId": "d2a4eccc-89b3-40ed-8a1c-c23a8308fd9e"
      },
      "execution_count": 13,
      "outputs": [
        {
          "output_type": "stream",
          "name": "stdout",
          "text": [
            "[ 1  2  3  4  5  6  7  8  9 10]\n",
            "\n",
            "[array([1, 2]), array([3, 4]), array([5, 6]), array([7, 8]), array([ 9, 10])]\n",
            "<class 'list'>\n",
            "[3 4]\n"
          ]
        }
      ]
    },
    {
      "cell_type": "code",
      "source": [
        "var1 = np.array([[1,2,3,4],[5,6,7,8]])\n",
        "print(var1)\n",
        "print()\n",
        "ar_new = np.split(var1,2)\n",
        "print(ar_new)"
      ],
      "metadata": {
        "colab": {
          "base_uri": "https://localhost:8080/"
        },
        "id": "OYRol6GfSain",
        "outputId": "dc5d4f45-eaf3-41a9-ecb6-6ee44ffa1f55"
      },
      "execution_count": 17,
      "outputs": [
        {
          "output_type": "stream",
          "name": "stdout",
          "text": [
            "[[1 2 3 4]\n",
            " [5 6 7 8]]\n",
            "\n",
            "[array([[1, 2, 3, 4]]), array([[5, 6, 7, 8]])]\n"
          ]
        }
      ]
    },
    {
      "cell_type": "code",
      "source": [],
      "metadata": {
        "id": "dueowqhkS3PU"
      },
      "execution_count": null,
      "outputs": []
    }
  ]
}