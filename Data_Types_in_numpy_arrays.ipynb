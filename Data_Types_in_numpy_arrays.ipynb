{
  "nbformat": 4,
  "nbformat_minor": 0,
  "metadata": {
    "colab": {
      "provenance": []
    },
    "kernelspec": {
      "name": "python3",
      "display_name": "Python 3"
    },
    "language_info": {
      "name": "python"
    }
  },
  "cells": [
    {
      "cell_type": "code",
      "execution_count": 3,
      "metadata": {
        "colab": {
          "base_uri": "https://localhost:8080/"
        },
        "id": "MRCgK3lBU1a0",
        "outputId": "ee6006ed-fd27-4663-d1e3-0dd3281ae593"
      },
      "outputs": [
        {
          "output_type": "stream",
          "name": "stdout",
          "text": [
            "Data Type :  int64\n"
          ]
        }
      ],
      "source": [
        "import numpy as np\n",
        "var = np.array([1,2,3,4,13,56,32,])\n",
        "print(\"Data Type : \",var.dtype)"
      ]
    },
    {
      "cell_type": "code",
      "source": [
        "var = np.array([1.0,2.0,3.0,4.0,13.0,56.0,32.0,])\n",
        "print(\"Data Type : \",var.dtype)"
      ],
      "metadata": {
        "colab": {
          "base_uri": "https://localhost:8080/"
        },
        "id": "qZdW_gSTgt2V",
        "outputId": "b755baf9-0ac2-406a-e9da-fc17700a05dc"
      },
      "execution_count": 4,
      "outputs": [
        {
          "output_type": "stream",
          "name": "stdout",
          "text": [
            "Data Type :  float64\n"
          ]
        }
      ]
    },
    {
      "cell_type": "code",
      "source": [
        "var = np.array(['a','b','c','d'])\n",
        "print(\"Data Type : \",var.dtype)"
      ],
      "metadata": {
        "colab": {
          "base_uri": "https://localhost:8080/"
        },
        "id": "XMquC6BDg4QO",
        "outputId": "ebe077e1-41c9-4802-97c3-df17e5e0d61a"
      },
      "execution_count": 5,
      "outputs": [
        {
          "output_type": "stream",
          "name": "stdout",
          "text": [
            "Data Type :  <U1\n"
          ]
        }
      ]
    },
    {
      "cell_type": "code",
      "source": [
        "var = np.array(['a','b','c','d',1,2,3,4])\n",
        "print(\"Data Type : \",var.dtype)"
      ],
      "metadata": {
        "colab": {
          "base_uri": "https://localhost:8080/"
        },
        "id": "3AbV1wHShCoC",
        "outputId": "d80007ea-252a-40cd-e669-073597695f0d"
      },
      "execution_count": 6,
      "outputs": [
        {
          "output_type": "stream",
          "name": "stdout",
          "text": [
            "Data Type :  <U21\n"
          ]
        }
      ]
    },
    {
      "cell_type": "code",
      "source": [
        "x = np.array([1,2,3,4])\n",
        "print(\"data typr: \",x.dtype)"
      ],
      "metadata": {
        "colab": {
          "base_uri": "https://localhost:8080/"
        },
        "id": "pfzOUcoAhO7H",
        "outputId": "2d9c5d6f-530c-43ff-b75d-7c6d61327329"
      },
      "execution_count": 7,
      "outputs": [
        {
          "output_type": "stream",
          "name": "stdout",
          "text": [
            "data typr:  int64\n"
          ]
        }
      ]
    },
    {
      "cell_type": "code",
      "source": [
        "x = np.array([1,2,3,4],dtype = np.int8)\n",
        "print(\"data typr: \",x.dtype)\n",
        "print(x)"
      ],
      "metadata": {
        "colab": {
          "base_uri": "https://localhost:8080/"
        },
        "id": "hfJcMOjSh5Rb",
        "outputId": "dc73d4d8-cebd-4130-d556-c27b620c800e"
      },
      "execution_count": 9,
      "outputs": [
        {
          "output_type": "stream",
          "name": "stdout",
          "text": [
            "data typr:  int8\n",
            "[1 2 3 4]\n"
          ]
        }
      ]
    },
    {
      "cell_type": "code",
      "source": [
        "x = np.array([1,2,3,4],dtype = 'f')\n",
        "print(\"data typr: \",x.dtype)\n",
        "print(x)"
      ],
      "metadata": {
        "colab": {
          "base_uri": "https://localhost:8080/"
        },
        "id": "O2Rm5SFviJ9r",
        "outputId": "83c63a0a-697f-47d6-9be9-8ff78fa128ea"
      },
      "execution_count": 10,
      "outputs": [
        {
          "output_type": "stream",
          "name": "stdout",
          "text": [
            "data typr:  float32\n",
            "[1. 2. 3. 4.]\n"
          ]
        }
      ]
    },
    {
      "cell_type": "code",
      "source": [
        "x1 = np.array([1,2,3,4])\n",
        "new = np.float32(x1)\n",
        "print(\"data type : \",x1.dtype)\n",
        "print(\"data type : \",new.dtype)\n",
        "print(x1)\n",
        "print(new)"
      ],
      "metadata": {
        "colab": {
          "base_uri": "https://localhost:8080/"
        },
        "id": "iJEgk2d6ia3l",
        "outputId": "e5ad92a1-d9d5-4685-ce1f-28df74386fff"
      },
      "execution_count": 12,
      "outputs": [
        {
          "output_type": "stream",
          "name": "stdout",
          "text": [
            "data type :  int64\n",
            "data type :  float32\n",
            "[1 2 3 4]\n",
            "[1. 2. 3. 4.]\n"
          ]
        }
      ]
    },
    {
      "cell_type": "code",
      "source": [],
      "metadata": {
        "id": "sdxD1pNOjN4a"
      },
      "execution_count": null,
      "outputs": []
    }
  ]
}