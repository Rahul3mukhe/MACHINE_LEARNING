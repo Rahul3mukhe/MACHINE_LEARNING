{
  "nbformat": 4,
  "nbformat_minor": 0,
  "metadata": {
    "colab": {
      "provenance": []
    },
    "kernelspec": {
      "name": "python3",
      "display_name": "Python 3"
    },
    "language_info": {
      "name": "python"
    }
  },
  "cells": [
    {
      "cell_type": "markdown",
      "source": [
        "zeros\n"
      ],
      "metadata": {
        "id": "uLsvldOOvCpL"
      }
    },
    {
      "cell_type": "code",
      "execution_count": 3,
      "metadata": {
        "colab": {
          "base_uri": "https://localhost:8080/"
        },
        "id": "QpnqdR9hnuhW",
        "outputId": "49559557-69aa-46c3-e7ad-1fdccb17186f"
      },
      "outputs": [
        {
          "output_type": "stream",
          "name": "stdout",
          "text": [
            "[0. 0. 0. 0.]\n",
            "\n",
            "[[0. 0. 0. 0.]\n",
            " [0. 0. 0. 0.]\n",
            " [0. 0. 0. 0.]]\n"
          ]
        }
      ],
      "source": [
        "import numpy as np\n",
        "ar_zero = np.zeros(4)\n",
        "ar_zero1 = np.zeros((3,4))\n",
        "\n",
        "print(ar_zero)              #printing 1 dim arr\n",
        "print()                     #makes a gap btwn arrays\n",
        "print(ar_zero1)             #prints 3x4 matrix\n"
      ]
    },
    {
      "cell_type": "markdown",
      "source": [
        "ones"
      ],
      "metadata": {
        "id": "fbULGeTSzCz7"
      }
    },
    {
      "cell_type": "code",
      "source": [
        "ar_one = np.ones(5)\n",
        "ar_one1 = np.ones((5,4))\n",
        "print(ar_one)\n",
        "print()\n",
        "print(ar_one1)"
      ],
      "metadata": {
        "colab": {
          "base_uri": "https://localhost:8080/"
        },
        "id": "lcaVtsz8vSvo",
        "outputId": "3c116aef-7b1d-4eed-d9e6-55ad7ed1b07a"
      },
      "execution_count": 10,
      "outputs": [
        {
          "output_type": "stream",
          "name": "stdout",
          "text": [
            "[1. 1. 1. 1. 1.]\n",
            "\n",
            "[[1. 1. 1. 1.]\n",
            " [1. 1. 1. 1.]\n",
            " [1. 1. 1. 1.]\n",
            " [1. 1. 1. 1.]\n",
            " [1. 1. 1. 1.]]\n"
          ]
        }
      ]
    },
    {
      "cell_type": "markdown",
      "source": [
        "empty array"
      ],
      "metadata": {
        "id": "vo7uGqVOzejl"
      }
    },
    {
      "cell_type": "code",
      "source": [
        "ar_empty = np.empty(4)\n",
        "print(ar_empty)"
      ],
      "metadata": {
        "colab": {
          "base_uri": "https://localhost:8080/"
        },
        "id": "qZUOyr_JzMUH",
        "outputId": "0ab4552a-220c-4bdc-9c5b-3cb1b81f15fe"
      },
      "execution_count": 11,
      "outputs": [
        {
          "output_type": "stream",
          "name": "stdout",
          "text": [
            "[0. 0. 0. 0.]\n"
          ]
        }
      ]
    },
    {
      "cell_type": "markdown",
      "source": [
        "range array"
      ],
      "metadata": {
        "id": "1y3o_3zaz79U"
      }
    },
    {
      "cell_type": "code",
      "source": [
        "ar_range = np.arange(10)\n",
        "print(ar_range)\n"
      ],
      "metadata": {
        "colab": {
          "base_uri": "https://localhost:8080/"
        },
        "id": "IC8KjtvvzsQ3",
        "outputId": "635e6b2e-d69b-4d40-a404-1ba13c30253a"
      },
      "execution_count": 12,
      "outputs": [
        {
          "output_type": "stream",
          "name": "stdout",
          "text": [
            "[0 1 2 3 4 5 6 7 8 9]\n"
          ]
        }
      ]
    },
    {
      "cell_type": "markdown",
      "source": [
        "identity array"
      ],
      "metadata": {
        "id": "vBr_gdGA1LlN"
      }
    },
    {
      "cell_type": "code",
      "source": [
        "ar_diagonal = np.eye(4)\n",
        "print(ar_diagonal)"
      ],
      "metadata": {
        "colab": {
          "base_uri": "https://localhost:8080/"
        },
        "id": "Vgmtz9Lm0I45",
        "outputId": "b57fc51e-ad66-4841-bb64-2f94913dae48"
      },
      "execution_count": 13,
      "outputs": [
        {
          "output_type": "stream",
          "name": "stdout",
          "text": [
            "[[1. 0. 0. 0.]\n",
            " [0. 1. 0. 0.]\n",
            " [0. 0. 1. 0.]\n",
            " [0. 0. 0. 1.]]\n"
          ]
        }
      ]
    },
    {
      "cell_type": "code",
      "source": [
        "ar_diagonal = np.eye(3,8)\n",
        "print(ar_diagonal)"
      ],
      "metadata": {
        "colab": {
          "base_uri": "https://localhost:8080/"
        },
        "id": "cZ0vgx7E1X57",
        "outputId": "c0773c69-0c01-43de-d26c-b148d509a172"
      },
      "execution_count": 14,
      "outputs": [
        {
          "output_type": "stream",
          "name": "stdout",
          "text": [
            "[[1. 0. 0. 0. 0. 0. 0. 0.]\n",
            " [0. 1. 0. 0. 0. 0. 0. 0.]\n",
            " [0. 0. 1. 0. 0. 0. 0. 0.]]\n"
          ]
        }
      ]
    },
    {
      "cell_type": "markdown",
      "source": [
        "linspace"
      ],
      "metadata": {
        "id": "_Hd31Ul31g-p"
      }
    },
    {
      "cell_type": "code",
      "source": [
        "ar_lin = np.linspace(0,20,num=5)\n",
        "print(ar_lin)"
      ],
      "metadata": {
        "colab": {
          "base_uri": "https://localhost:8080/"
        },
        "id": "si_gkeO-1zmj",
        "outputId": "e22a5308-57c2-4f58-ba47-bee6ea7d2a51"
      },
      "execution_count": 20,
      "outputs": [
        {
          "output_type": "stream",
          "name": "stdout",
          "text": [
            "[ 0.  5. 10. 15. 20.]\n"
          ]
        }
      ]
    },
    {
      "cell_type": "code",
      "source": [],
      "metadata": {
        "id": "tBYyfADV2Bq8"
      },
      "execution_count": null,
      "outputs": []
    }
  ]
}