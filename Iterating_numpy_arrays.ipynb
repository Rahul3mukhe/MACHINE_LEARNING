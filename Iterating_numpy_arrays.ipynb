{
  "nbformat": 4,
  "nbformat_minor": 0,
  "metadata": {
    "colab": {
      "provenance": []
    },
    "kernelspec": {
      "name": "python3",
      "display_name": "Python 3"
    },
    "language_info": {
      "name": "python"
    }
  },
  "cells": [
    {
      "cell_type": "markdown",
      "source": [
        "ITERATION"
      ],
      "metadata": {
        "id": "yPab0lRux_mu"
      }
    },
    {
      "cell_type": "code",
      "execution_count": 1,
      "metadata": {
        "colab": {
          "base_uri": "https://localhost:8080/"
        },
        "id": "FFqrpIdnxtAi",
        "outputId": "e2107f95-d25f-4340-ec8d-94170fcc6451"
      },
      "outputs": [
        {
          "output_type": "stream",
          "name": "stdout",
          "text": [
            "[9 8 7 6 5 4 3]\n",
            "\n",
            "9\n",
            "8\n",
            "7\n",
            "6\n",
            "5\n",
            "4\n",
            "3\n"
          ]
        }
      ],
      "source": [
        "import numpy as np\n",
        "var = np.array([9,8,7,6,5,4,3])\n",
        "print(var)\n",
        "print()\n",
        "\n",
        "for i in var :\n",
        "  print(i)"
      ]
    },
    {
      "cell_type": "code",
      "source": [
        "var = np.array([[1,2,3,4],[5,6,7,8]])\n",
        "print(var)\n",
        "print()\n",
        "for j in var :\n",
        "  print(j)\n",
        "print()\n",
        "for k in var :\n",
        "  for l in k :\n",
        "    print(l)\n"
      ],
      "metadata": {
        "colab": {
          "base_uri": "https://localhost:8080/"
        },
        "id": "U1KDFCPsyTUn",
        "outputId": "3634e54b-1699-452a-d36e-d0f5693657a3"
      },
      "execution_count": 4,
      "outputs": [
        {
          "output_type": "stream",
          "name": "stdout",
          "text": [
            "[[1 2 3 4]\n",
            " [5 6 7 8]]\n",
            "\n",
            "[1 2 3 4]\n",
            "[5 6 7 8]\n",
            "\n",
            "1\n",
            "2\n",
            "3\n",
            "4\n",
            "5\n",
            "6\n",
            "7\n",
            "8\n"
          ]
        }
      ]
    },
    {
      "cell_type": "code",
      "source": [
        "c = np.array([[[1,2,3,4],[1,2,3,4]]])\n",
        "print(c)\n",
        "print()\n",
        "for i in c :\n",
        "  print(i)\n",
        "print()\n",
        "for j in c :\n",
        "  for k in j :\n",
        "    for l in k :\n",
        "       print(l)"
      ],
      "metadata": {
        "colab": {
          "base_uri": "https://localhost:8080/"
        },
        "id": "C9pfjNjJytV9",
        "outputId": "a171fb6c-007d-4582-d638-c603c35baec2"
      },
      "execution_count": 7,
      "outputs": [
        {
          "output_type": "stream",
          "name": "stdout",
          "text": [
            "[[[1 2 3 4]\n",
            "  [1 2 3 4]]]\n",
            "\n",
            "[[1 2 3 4]\n",
            " [1 2 3 4]]\n",
            "\n",
            "1\n",
            "2\n",
            "3\n",
            "4\n",
            "1\n",
            "2\n",
            "3\n",
            "4\n"
          ]
        }
      ]
    },
    {
      "cell_type": "code",
      "source": [
        "c = np.array([[[1,2,3,4],[1,2,3,4]]])\n",
        "print(c)\n",
        "print()\n",
        "for i in np.nditer(c) :\n",
        "  print(i)"
      ],
      "metadata": {
        "colab": {
          "base_uri": "https://localhost:8080/"
        },
        "id": "hEjc9tPvzhNK",
        "outputId": "e528bd37-0d2d-4947-9ae7-a034cffe195e"
      },
      "execution_count": 8,
      "outputs": [
        {
          "output_type": "stream",
          "name": "stdout",
          "text": [
            "[[[1 2 3 4]\n",
            "  [1 2 3 4]]]\n",
            "\n",
            "1\n",
            "2\n",
            "3\n",
            "4\n",
            "1\n",
            "2\n",
            "3\n",
            "4\n"
          ]
        }
      ]
    },
    {
      "cell_type": "code",
      "source": [
        "c = np.array([[[1,2,3,4],[1,2,3,4]]])\n",
        "print(c)\n",
        "print()\n",
        "for i in np.nditer(c,flags=['buffered'],op_dtypes = [\"S\"]) : #converts into string by creating buffer\n",
        "  print(i)"
      ],
      "metadata": {
        "colab": {
          "base_uri": "https://localhost:8080/"
        },
        "id": "b4YJ0KtJ0NmN",
        "outputId": "c2e4c9b9-d0b8-4f3e-b7cd-574c59429c33"
      },
      "execution_count": 11,
      "outputs": [
        {
          "output_type": "stream",
          "name": "stdout",
          "text": [
            "[[[1 2 3 4]\n",
            "  [1 2 3 4]]]\n",
            "\n",
            "b'1'\n",
            "b'2'\n",
            "b'3'\n",
            "b'4'\n",
            "b'1'\n",
            "b'2'\n",
            "b'3'\n",
            "b'4'\n"
          ]
        }
      ]
    },
    {
      "cell_type": "code",
      "source": [
        "c = np.array([[[1,2,3,4],[1,2,3,4]]])\n",
        "print(c)\n",
        "print()\n",
        "for i,d in np.ndenumerate(c) :\n",
        "  print(i,d)"
      ],
      "metadata": {
        "colab": {
          "base_uri": "https://localhost:8080/"
        },
        "id": "SqaEGMzg0iVS",
        "outputId": "9b011e74-215e-448e-cde0-3c1a6171943b"
      },
      "execution_count": 13,
      "outputs": [
        {
          "output_type": "stream",
          "name": "stdout",
          "text": [
            "[[[1 2 3 4]\n",
            "  [1 2 3 4]]]\n",
            "\n",
            "(0, 0, 0) 1\n",
            "(0, 0, 1) 2\n",
            "(0, 0, 2) 3\n",
            "(0, 0, 3) 4\n",
            "(0, 1, 0) 1\n",
            "(0, 1, 1) 2\n",
            "(0, 1, 2) 3\n",
            "(0, 1, 3) 4\n"
          ]
        }
      ]
    },
    {
      "cell_type": "code",
      "source": [],
      "metadata": {
        "id": "z8QNHChb1HAi"
      },
      "execution_count": null,
      "outputs": []
    }
  ]
}