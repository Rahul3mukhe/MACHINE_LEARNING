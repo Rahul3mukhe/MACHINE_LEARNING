{
  "nbformat": 4,
  "nbformat_minor": 0,
  "metadata": {
    "colab": {
      "provenance": []
    },
    "kernelspec": {
      "name": "python3",
      "display_name": "Python 3"
    },
    "language_info": {
      "name": "python"
    }
  },
  "cells": [
    {
      "cell_type": "markdown",
      "source": [
        "ARRAYS\n"
      ],
      "metadata": {
        "id": "LJmw4MH3gQqg"
      }
    },
    {
      "cell_type": "code",
      "execution_count": 4,
      "metadata": {
        "colab": {
          "base_uri": "https://localhost:8080/"
        },
        "id": "bhpFrvJ5ciAW",
        "outputId": "0d098c30-b1af-4227-fd20-ade12d45e08a"
      },
      "outputs": [
        {
          "output_type": "stream",
          "name": "stdout",
          "text": [
            "[1 2 3 4]\n",
            "<class 'numpy.ndarray'>\n",
            "1\n"
          ]
        }
      ],
      "source": [
        "import numpy as np\n",
        "x=[1,2,3,4]\n",
        "y = np.array(x)\n",
        "print(y)\n",
        "y\n",
        "print(type(y))\n",
        "print(y.ndim)"
      ]
    },
    {
      "cell_type": "code",
      "source": [
        "import numpy as np\n",
        "l = []\n",
        "for i in range(1,5):\n",
        "    int_1 = int(input(\"enter : \"))\n",
        "    l.append(int_1)\n",
        "\n",
        "print(np.array(l))\n"
      ],
      "metadata": {
        "colab": {
          "base_uri": "https://localhost:8080/"
        },
        "id": "ovmYGAH9cswN",
        "outputId": "220a481d-1357-4af1-c9bf-22929fd0cf7a"
      },
      "execution_count": 3,
      "outputs": [
        {
          "output_type": "stream",
          "name": "stdout",
          "text": [
            "enter : 12\n",
            "enter : 13\n",
            "enter : 14\n",
            "enter : 5\n",
            "[12 13 14  5]\n"
          ]
        }
      ]
    },
    {
      "cell_type": "code",
      "source": [
        "ar2 = np.array([[1,2,3,4],[1,2,3,4]])\n",
        "print(ar2)\n",
        "print(ar2.ndim)"
      ],
      "metadata": {
        "colab": {
          "base_uri": "https://localhost:8080/"
        },
        "id": "h6kF--X3cx81",
        "outputId": "e3a3d3b5-6cf7-4906-bb9f-3c6df10f5838"
      },
      "execution_count": 6,
      "outputs": [
        {
          "output_type": "stream",
          "name": "stdout",
          "text": [
            "[[1 2 3 4]\n",
            " [1 2 3 4]]\n",
            "2\n"
          ]
        }
      ]
    },
    {
      "cell_type": "code",
      "source": [
        "ar3 = np.array([[[1,2,3,4],[5,6,7,8],[9,10,11,12]]])\n",
        "print(ar3)\n",
        "print(ar3.ndim)"
      ],
      "metadata": {
        "colab": {
          "base_uri": "https://localhost:8080/"
        },
        "id": "wzbRQAfLeocE",
        "outputId": "38c681c6-5311-4ec4-dd97-81e4110c45e7"
      },
      "execution_count": 7,
      "outputs": [
        {
          "output_type": "stream",
          "name": "stdout",
          "text": [
            "[[[ 1  2  3  4]\n",
            "  [ 5  6  7  8]\n",
            "  [ 9 10 11 12]]]\n",
            "3\n"
          ]
        }
      ]
    },
    {
      "cell_type": "code",
      "source": [
        "arn = np.array([1,2,3,4],ndmin = 10 )\n",
        "print(arn)\n",
        "print(arn.ndim)"
      ],
      "metadata": {
        "colab": {
          "base_uri": "https://localhost:8080/"
        },
        "id": "z9ZQEaa6fF_x",
        "outputId": "acea3ffa-67ec-4aee-cd4f-94c48d1aa553"
      },
      "execution_count": 9,
      "outputs": [
        {
          "output_type": "stream",
          "name": "stdout",
          "text": [
            "[[[[[[[[[[1 2 3 4]]]]]]]]]]\n",
            "10\n"
          ]
        }
      ]
    },
    {
      "cell_type": "code",
      "source": [],
      "metadata": {
        "id": "R1l0U2nafs70"
      },
      "execution_count": null,
      "outputs": []
    }
  ]
}
