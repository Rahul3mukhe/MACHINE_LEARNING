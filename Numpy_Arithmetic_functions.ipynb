{
  "nbformat": 4,
  "nbformat_minor": 0,
  "metadata": {
    "colab": {
      "provenance": []
    },
    "kernelspec": {
      "name": "python3",
      "display_name": "Python 3"
    },
    "language_info": {
      "name": "python"
    }
  },
  "cells": [
    {
      "cell_type": "code",
      "execution_count": 3,
      "metadata": {
        "colab": {
          "base_uri": "https://localhost:8080/"
        },
        "id": "2ujLLAkhoSzM",
        "outputId": "25809bf4-0047-4542-ebd8-b385dc993671"
      },
      "outputs": [
        {
          "output_type": "stream",
          "name": "stdout",
          "text": [
            "min :  1 0\n",
            "max :  10 9\n"
          ]
        }
      ],
      "source": [
        "import numpy as np\n",
        "var = np.array([1,2,3,4,5,6,7,8,9,10])\n",
        "print(\"min : \",np.min(var),np.argmin(var))\n",
        "print(\"max : \",np.max(var),np.argmax(var))\n",
        "\n"
      ]
    },
    {
      "cell_type": "code",
      "source": [
        "var1 = np.array([1,4,5,3,7,4,2,6])\n",
        "print(\"sqrt = \",np.sqrt(var1))\n",
        "print(\"sin : \",np.sin(var1))\n",
        "print(\"cos : \",np.cos(var1))"
      ],
      "metadata": {
        "colab": {
          "base_uri": "https://localhost:8080/"
        },
        "id": "idKSr2d1rvws",
        "outputId": "86bc98c1-aa9c-43b1-de15-7314f36f5f9d"
      },
      "execution_count": 10,
      "outputs": [
        {
          "output_type": "stream",
          "name": "stdout",
          "text": [
            "sqrt =  [1.         2.         2.23606798 1.73205081 2.64575131 2.\n",
            " 1.41421356 2.44948974]\n",
            "sin :  [ 0.84147098 -0.7568025  -0.95892427  0.14112001  0.6569866  -0.7568025\n",
            "  0.90929743 -0.2794155 ]\n",
            "cos :  [ 0.54030231 -0.65364362  0.28366219 -0.9899925   0.75390225 -0.65364362\n",
            " -0.41614684  0.96017029]\n"
          ]
        }
      ]
    },
    {
      "cell_type": "code",
      "source": [
        "var1 = np.array([[3,5,9],[4,6,8]])\n",
        "print(np.min(var1,axis=0))\n",
        "print(np.min(var1,axis=1))\n",
        "print(np.max(var1,axis=0))\n",
        "print(np.max(var1,axis=1))"
      ],
      "metadata": {
        "colab": {
          "base_uri": "https://localhost:8080/"
        },
        "id": "Bp36F-1OskX5",
        "outputId": "bce13e0a-1671-40c9-88c7-4d4a83f417de"
      },
      "execution_count": 6,
      "outputs": [
        {
          "output_type": "stream",
          "name": "stdout",
          "text": [
            "[3 5 8]\n",
            "[3 4]\n",
            "[4 6 9]\n",
            "[9 8]\n"
          ]
        }
      ]
    },
    {
      "cell_type": "code",
      "source": [
        "var1 = np.array([[1,2,3,4,5,6]])\n",
        "print(\"cumsum : \",np.cumsum(var1))"
      ],
      "metadata": {
        "colab": {
          "base_uri": "https://localhost:8080/"
        },
        "id": "_Nej-cwQtZwH",
        "outputId": "1e7fd450-b14e-4e6d-a448-879520d98594"
      },
      "execution_count": 13,
      "outputs": [
        {
          "output_type": "stream",
          "name": "stdout",
          "text": [
            "cumsum :  [ 1  3  6 10 15 21]\n"
          ]
        }
      ]
    }
  ]
}