{
  "nbformat": 4,
  "nbformat_minor": 0,
  "metadata": {
    "colab": {
      "provenance": []
    },
    "kernelspec": {
      "name": "python3",
      "display_name": "Python 3"
    },
    "language_info": {
      "name": "python"
    }
  },
  "cells": [
    {
      "cell_type": "code",
      "execution_count": 1,
      "metadata": {
        "colab": {
          "base_uri": "https://localhost:8080/"
        },
        "id": "eGJaIRpifZae",
        "outputId": "5e456413-8957-47eb-d136-40f2b39da633"
      },
      "outputs": [
        {
          "output_type": "stream",
          "name": "stdout",
          "text": [
            "[5 1 8 7 3]\n"
          ]
        }
      ],
      "source": [
        "import numpy as np\n",
        "var = np.array([1,5,7,3,8])\n",
        "np.random.shuffle(var)\n",
        "print(var)"
      ]
    },
    {
      "cell_type": "code",
      "source": [
        "var1 = np.array([1,5,7,5,7,1,7,3,8])\n",
        "x = np.unique(var1,return_index= True)\n",
        "print(x)"
      ],
      "metadata": {
        "colab": {
          "base_uri": "https://localhost:8080/"
        },
        "id": "6uTOswFci1Kp",
        "outputId": "54512748-dc8a-4b1a-bd0e-59f0de3dea68"
      },
      "execution_count": 5,
      "outputs": [
        {
          "output_type": "stream",
          "name": "stdout",
          "text": [
            "(array([1, 3, 5, 7, 8]), array([0, 7, 1, 2, 8]))\n"
          ]
        }
      ]
    },
    {
      "cell_type": "code",
      "source": [
        "var_2 = np.array([1,2,3,4,5,6])\n",
        "y = np.resize(var_2,(2,3))\n",
        "print(y)"
      ],
      "metadata": {
        "colab": {
          "base_uri": "https://localhost:8080/"
        },
        "id": "_zH5BNsDjGZT",
        "outputId": "ae828057-7d1d-45b2-ca7c-51e04082aa80"
      },
      "execution_count": 7,
      "outputs": [
        {
          "output_type": "stream",
          "name": "stdout",
          "text": [
            "[[1 2 3]\n",
            " [4 5 6]]\n"
          ]
        }
      ]
    },
    {
      "cell_type": "code",
      "source": [
        "var_2 = np.array([1,2,3,4,5,6])\n",
        "y = np.resize(var_2,(2,3))\n",
        "print(y.flatten())\n"
      ],
      "metadata": {
        "colab": {
          "base_uri": "https://localhost:8080/"
        },
        "id": "_F0s0jSCjtyT",
        "outputId": "c9cc9dbf-3a14-4493-856f-db60364fbc76"
      },
      "execution_count": 8,
      "outputs": [
        {
          "output_type": "stream",
          "name": "stdout",
          "text": [
            "[1 2 3 4 5 6]\n"
          ]
        }
      ]
    },
    {
      "cell_type": "markdown",
      "source": [
        "# NUMPY INSERT AND DELETE FUNCTIONS"
      ],
      "metadata": {
        "id": "aPR5QeNKkbwf"
      }
    },
    {
      "cell_type": "code",
      "source": [
        "x = np.array([1,2,3,4,5,6])\n",
        "y = np.insert(x,2,5)\n",
        "print(y)"
      ],
      "metadata": {
        "colab": {
          "base_uri": "https://localhost:8080/"
        },
        "id": "bsfAZoBPkCeh",
        "outputId": "841f54bc-751b-49a9-e678-579d7a86bcc5"
      },
      "execution_count": 9,
      "outputs": [
        {
          "output_type": "stream",
          "name": "stdout",
          "text": [
            "[1 2 5 3 4 5 6]\n"
          ]
        }
      ]
    },
    {
      "cell_type": "code",
      "source": [
        "var_1 = np.array([[1,2,3],[1,2,3]])\n",
        "v1 = np.insert(var_1,2,6,axis = 0)\n",
        "print(v1)"
      ],
      "metadata": {
        "colab": {
          "base_uri": "https://localhost:8080/"
        },
        "id": "kbhPmeZNlGbg",
        "outputId": "f813fda9-cac5-4c83-f7b8-46b039209b5b"
      },
      "execution_count": 12,
      "outputs": [
        {
          "output_type": "stream",
          "name": "stdout",
          "text": [
            "[[1 2 3]\n",
            " [1 2 3]\n",
            " [6 6 6]]\n"
          ]
        }
      ]
    },
    {
      "cell_type": "code",
      "source": [
        "var_1 = np.array([[1,2,3],[1,2,3]])\n",
        "v1 = np.insert(var_1,2,6,axis = 1)\n",
        "print(v1)"
      ],
      "metadata": {
        "colab": {
          "base_uri": "https://localhost:8080/"
        },
        "id": "ba0FnRcwpLxX",
        "outputId": "09e09736-9a45-496d-93fe-8913750000fb"
      },
      "execution_count": 13,
      "outputs": [
        {
          "output_type": "stream",
          "name": "stdout",
          "text": [
            "[[1 2 6 3]\n",
            " [1 2 6 3]]\n"
          ]
        }
      ]
    },
    {
      "cell_type": "code",
      "source": [
        "x = np.array([1,2,3,4,5,6])\n",
        "y = np.append(x,2.5)\n",
        "print(y)"
      ],
      "metadata": {
        "colab": {
          "base_uri": "https://localhost:8080/"
        },
        "id": "4Cyn3w7gpU3K",
        "outputId": "f0e7f950-e49a-43bc-81f9-a54a395985fd"
      },
      "execution_count": 15,
      "outputs": [
        {
          "output_type": "stream",
          "name": "stdout",
          "text": [
            "[1.  2.  3.  4.  5.  6.  2.5]\n"
          ]
        }
      ]
    },
    {
      "cell_type": "code",
      "source": [
        "var_1 = np.array([[1,2,3],[1,2,3]])\n",
        "v1 = np.append(var_1,[[45,44,6]],axis =0)\n",
        "print(v1)"
      ],
      "metadata": {
        "colab": {
          "base_uri": "https://localhost:8080/"
        },
        "id": "nf0_INFgp2T6",
        "outputId": "6c438e35-6baa-4cc1-ee26-7a5780892d42"
      },
      "execution_count": 19,
      "outputs": [
        {
          "output_type": "stream",
          "name": "stdout",
          "text": [
            "[[ 1  2  3]\n",
            " [ 1  2  3]\n",
            " [45 44  6]]\n"
          ]
        }
      ]
    },
    {
      "cell_type": "code",
      "source": [],
      "metadata": {
        "id": "wm3TsoUsqEDv"
      },
      "execution_count": null,
      "outputs": []
    }
  ]
}