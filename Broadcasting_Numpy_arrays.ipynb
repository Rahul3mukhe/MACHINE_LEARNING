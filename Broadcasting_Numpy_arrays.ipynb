{
  "nbformat": 4,
  "nbformat_minor": 0,
  "metadata": {
    "colab": {
      "provenance": []
    },
    "kernelspec": {
      "name": "python3",
      "display_name": "Python 3"
    },
    "language_info": {
      "name": "python"
    }
  },
  "cells": [
    {
      "cell_type": "code",
      "execution_count": 4,
      "metadata": {
        "colab": {
          "base_uri": "https://localhost:8080/"
        },
        "id": "KRNHhMxWcBBH",
        "outputId": "b07f4e10-c284-487f-ce47-e22b4798ccc1"
      },
      "outputs": [
        {
          "output_type": "stream",
          "name": "stdout",
          "text": [
            "[ 6  8 10 12]\n"
          ]
        }
      ],
      "source": [
        "import numpy as np\n",
        "var1 = np.array([1,2,3,4])\n",
        "var2 = np.array([5,6,7,8])\n",
        "print(var1 + var2)"
      ]
    },
    {
      "cell_type": "code",
      "source": [
        "var1 = np.array([1,2,3,4])\n",
        "print(var1)\n",
        "print()\n",
        "print(var1.shape)\n",
        "print()\n",
        "\n",
        "var2 = np.array([[1,2,3,4],[5,6,7,8],[3,4,5,6]])\n",
        "print(var2)\n",
        "print()\n",
        "print(var2.shape)\n",
        "\n",
        "print(var1 + var2)"
      ],
      "metadata": {
        "colab": {
          "base_uri": "https://localhost:8080/"
        },
        "id": "SOx8Jkf3cyFB",
        "outputId": "af4fe0c7-08a5-4e0b-e4fa-677f6b448269"
      },
      "execution_count": 8,
      "outputs": [
        {
          "output_type": "stream",
          "name": "stdout",
          "text": [
            "[1 2 3 4]\n",
            "\n",
            "(4,)\n",
            "\n",
            "[[1 2 3 4]\n",
            " [5 6 7 8]\n",
            " [3 4 5 6]]\n",
            "\n",
            "(3, 4)\n",
            "[[ 2  4  6  8]\n",
            " [ 6  8 10 12]\n",
            " [ 4  6  8 10]]\n"
          ]
        }
      ]
    },
    {
      "cell_type": "code",
      "source": [
        "var3 = np.array([[1,2,4],[3,7,9]])\n",
        "var4 = np.array([[2],[7]])\n",
        "print(var3)\n",
        "print()\n",
        "print(var4)\n",
        "print()\n",
        "print(var3.shape)\n",
        "print()\n",
        "print(var4.shape)\n",
        "print()\n",
        "print(var3 + var4)"
      ],
      "metadata": {
        "colab": {
          "base_uri": "https://localhost:8080/"
        },
        "id": "P66kKATferGn",
        "outputId": "311f2c83-65fb-4929-cc97-07299e51f04a"
      },
      "execution_count": 11,
      "outputs": [
        {
          "output_type": "stream",
          "name": "stdout",
          "text": [
            "[[1 2 4]\n",
            " [3 7 9]]\n",
            "\n",
            "[[2]\n",
            " [7]]\n",
            "\n",
            "(2, 3)\n",
            "\n",
            "(2, 1)\n",
            "\n",
            "[[ 3  4  6]\n",
            " [10 14 16]]\n"
          ]
        }
      ]
    }
  ]
}