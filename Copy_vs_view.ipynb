{
  "nbformat": 4,
  "nbformat_minor": 0,
  "metadata": {
    "colab": {
      "provenance": []
    },
    "kernelspec": {
      "name": "python3",
      "display_name": "Python 3"
    },
    "language_info": {
      "name": "python"
    }
  },
  "cells": [
    {
      "cell_type": "code",
      "execution_count": 3,
      "metadata": {
        "colab": {
          "base_uri": "https://localhost:8080/"
        },
        "id": "g-guyGN71wcU",
        "outputId": "89d40459-087f-45bf-dcbf-213314140536"
      },
      "outputs": [
        {
          "output_type": "stream",
          "name": "stdout",
          "text": [
            "var :  [ 1 10  3  4]\n",
            "copy :  [1 2 3 4]\n"
          ]
        }
      ],
      "source": [
        "import numpy as np\n",
        "var = np.array([1,2,3,4])\n",
        "cp = var.copy()\n",
        "var[1] = 10\n",
        "print(\"var : \",var)\n",
        "print(\"copy : \",cp)"
      ]
    },
    {
      "cell_type": "code",
      "source": [
        "x = np.array([9,8,7,6])\n",
        "vi = x.view()\n",
        "x[2] = 10\n",
        "print(\"view : \",vi)         #here the original array is affected\n",
        "print(\"x : \",x)\n"
      ],
      "metadata": {
        "colab": {
          "base_uri": "https://localhost:8080/"
        },
        "id": "l7OR2lAX2Hve",
        "outputId": "9c803126-c3ad-4e16-f290-495dabce447f"
      },
      "execution_count": 4,
      "outputs": [
        {
          "output_type": "stream",
          "name": "stdout",
          "text": [
            "view :  [ 9  8 10  6]\n",
            "x :  [ 9  8 10  6]\n"
          ]
        }
      ]
    },
    {
      "cell_type": "code",
      "source": [],
      "metadata": {
        "id": "N4upgL-32d30"
      },
      "execution_count": null,
      "outputs": []
    }
  ]
}