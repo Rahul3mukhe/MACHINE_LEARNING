{
  "nbformat": 4,
  "nbformat_minor": 0,
  "metadata": {
    "colab": {
      "provenance": []
    },
    "kernelspec": {
      "name": "python3",
      "display_name": "Python 3"
    },
    "language_info": {
      "name": "python"
    }
  },
  "cells": [
    {
      "cell_type": "markdown",
      "source": [
        "# **RANDOM**"
      ],
      "metadata": {
        "id": "8uT3m6LSQ6xs"
      }
    },
    {
      "cell_type": "markdown",
      "source": [
        "rand()"
      ],
      "metadata": {
        "id": "i0FJmXyNRCmO"
      }
    },
    {
      "cell_type": "code",
      "execution_count": 2,
      "metadata": {
        "colab": {
          "base_uri": "https://localhost:8080/"
        },
        "id": "GXXs8ZiUQDgu",
        "outputId": "f7c87076-147d-42df-bcff-5687f8105434"
      },
      "outputs": [
        {
          "output_type": "stream",
          "name": "stdout",
          "text": [
            "[0.37941607 0.67244887 0.8020892  0.71951432 0.30344765]\n"
          ]
        }
      ],
      "source": [
        "import numpy as np\n",
        "var = np.random.rand(5)\n",
        "print(var)"
      ]
    },
    {
      "cell_type": "code",
      "source": [
        "var1 = np.random.rand(5,5)\n",
        "print(var1)"
      ],
      "metadata": {
        "colab": {
          "base_uri": "https://localhost:8080/"
        },
        "id": "iBbyd46yRN6t",
        "outputId": "b30fda65-e17a-4573-9e21-90957647ce68"
      },
      "execution_count": 3,
      "outputs": [
        {
          "output_type": "stream",
          "name": "stdout",
          "text": [
            "[[0.44747647 0.01276072 0.06610357 0.23634433 0.01637602]\n",
            " [0.71529532 0.8517994  0.51419047 0.26602308 0.39981004]\n",
            " [0.31582596 0.55334806 0.32983195 0.9314606  0.02623244]\n",
            " [0.70751567 0.01193555 0.83727066 0.75435409 0.14049998]\n",
            " [0.63943176 0.80233452 0.28491205 0.13819091 0.83110099]]\n"
          ]
        }
      ]
    },
    {
      "cell_type": "markdown",
      "source": [
        "randn()"
      ],
      "metadata": {
        "id": "rBkhWjvDTRA0"
      }
    },
    {
      "cell_type": "code",
      "source": [
        "var2 = np.random.randn(5)\n",
        "print(var2)"
      ],
      "metadata": {
        "colab": {
          "base_uri": "https://localhost:8080/"
        },
        "id": "aVg8vYBBTNug",
        "outputId": "5af04c6a-3b12-4b03-8fa8-501af4d5a619"
      },
      "execution_count": 4,
      "outputs": [
        {
          "output_type": "stream",
          "name": "stdout",
          "text": [
            "[-2.00726611  0.00295294  1.46033485  0.25708875 -0.65428511]\n"
          ]
        }
      ]
    },
    {
      "cell_type": "markdown",
      "source": [
        "ranf()"
      ],
      "metadata": {
        "id": "uaFs-SrUTiZs"
      }
    },
    {
      "cell_type": "code",
      "source": [
        "var3 = np.random.ranf(5)\n",
        "print(var3)\n"
      ],
      "metadata": {
        "colab": {
          "base_uri": "https://localhost:8080/"
        },
        "id": "GGeTdQQdTcQu",
        "outputId": "837b9cf7-9320-46f8-e6a1-9f2ca1c01b8f"
      },
      "execution_count": 6,
      "outputs": [
        {
          "output_type": "stream",
          "name": "stdout",
          "text": [
            "[0.48770955 0.19696685 0.97514065 0.12087003 0.90531979]\n"
          ]
        }
      ]
    },
    {
      "cell_type": "markdown",
      "source": [
        "randint()\n"
      ],
      "metadata": {
        "id": "fMD6lgSBUGNW"
      }
    },
    {
      "cell_type": "code",
      "source": [
        "var4 = np.random.randint(5,20,5)\n",
        "print(var4)"
      ],
      "metadata": {
        "colab": {
          "base_uri": "https://localhost:8080/"
        },
        "id": "sZtHZzuxTsYK",
        "outputId": "f5a00dd3-9251-46a6-f4da-0eaf078e7040"
      },
      "execution_count": 8,
      "outputs": [
        {
          "output_type": "stream",
          "name": "stdout",
          "text": [
            "[12 17  6  9  5]\n"
          ]
        }
      ]
    },
    {
      "cell_type": "code",
      "source": [],
      "metadata": {
        "id": "j-E5J0-vUS6F"
      },
      "execution_count": null,
      "outputs": []
    }
  ]
}