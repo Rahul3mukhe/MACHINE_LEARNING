{
  "nbformat": 4,
  "nbformat_minor": 0,
  "metadata": {
    "colab": {
      "provenance": []
    },
    "kernelspec": {
      "name": "python3",
      "display_name": "Python 3"
    },
    "language_info": {
      "name": "python"
    }
  },
  "cells": [
    {
      "cell_type": "code",
      "execution_count": 1,
      "metadata": {
        "colab": {
          "base_uri": "https://localhost:8080/"
        },
        "id": "_mj70c87kfiG",
        "outputId": "ef36904a-596c-44a8-fe45-2dce151241f2"
      },
      "outputs": [
        {
          "output_type": "stream",
          "name": "stdout",
          "text": [
            "[4 5 6 7]\n"
          ]
        }
      ],
      "source": [
        "import numpy as np\n",
        "var = np.array([1,2,3,4])\n",
        "varadd = var + 3\n",
        "print(varadd)"
      ]
    },
    {
      "cell_type": "code",
      "source": [
        "var1 = np.array([1,2,3,4])\n",
        "var2 = np.array([5,6,7,8])\n",
        "varadd = var1 + var2\n",
        "print(varadd)"
      ],
      "metadata": {
        "colab": {
          "base_uri": "https://localhost:8080/"
        },
        "id": "BlkxdAn4ldLf",
        "outputId": "3d15352a-4db8-4bd8-f661-bf8f99f2789e"
      },
      "execution_count": 2,
      "outputs": [
        {
          "output_type": "stream",
          "name": "stdout",
          "text": [
            "[ 6  8 10 12]\n"
          ]
        }
      ]
    },
    {
      "cell_type": "code",
      "source": [
        "var1 = np.array([1,2,3,4])\n",
        "var2 = np.array([5,6,7,8])\n",
        "varadd = var1 - var2\n",
        "print(varadd)"
      ],
      "metadata": {
        "colab": {
          "base_uri": "https://localhost:8080/"
        },
        "id": "3LZguj-ulvgZ",
        "outputId": "ee33afce-e92a-47de-f12a-96fdd5c45a56"
      },
      "execution_count": 3,
      "outputs": [
        {
          "output_type": "stream",
          "name": "stdout",
          "text": [
            "[-4 -4 -4 -4]\n"
          ]
        }
      ]
    },
    {
      "cell_type": "code",
      "source": [
        "var1 = np.array([1,2,3,4])\n",
        "var2 = np.array([5,6,7,8])\n",
        "varadd = var1 * var2\n",
        "print(varadd)"
      ],
      "metadata": {
        "colab": {
          "base_uri": "https://localhost:8080/"
        },
        "id": "wSbiKNJsl28O",
        "outputId": "7ed97828-5fe3-4d0a-b8f6-1dfec8fbc91a"
      },
      "execution_count": 4,
      "outputs": [
        {
          "output_type": "stream",
          "name": "stdout",
          "text": [
            "[ 5 12 21 32]\n"
          ]
        }
      ]
    },
    {
      "cell_type": "code",
      "source": [
        "var1 = np.array([1,2,3,4])\n",
        "var2 = np.array([5,6,7,8])\n",
        "varadd = var1 / var2\n",
        "print(varadd)"
      ],
      "metadata": {
        "colab": {
          "base_uri": "https://localhost:8080/"
        },
        "id": "ZNmE8f6Dl8MN",
        "outputId": "2471f884-5bd5-44be-f494-2eec9da2c33c"
      },
      "execution_count": 5,
      "outputs": [
        {
          "output_type": "stream",
          "name": "stdout",
          "text": [
            "[0.2        0.33333333 0.42857143 0.5       ]\n"
          ]
        }
      ]
    },
    {
      "cell_type": "code",
      "source": [
        "var1 = np.array([1,2,3,4])\n",
        "var2 = np.array([5,6,7,8])\n",
        "varadd = var1 % var2\n",
        "print(varadd)"
      ],
      "metadata": {
        "colab": {
          "base_uri": "https://localhost:8080/"
        },
        "id": "3mAvBwTCl_NG",
        "outputId": "50c26171-a33f-4bd6-9361-4314b4d40d79"
      },
      "execution_count": 6,
      "outputs": [
        {
          "output_type": "stream",
          "name": "stdout",
          "text": [
            "[1 2 3 4]\n"
          ]
        }
      ]
    },
    {
      "cell_type": "code",
      "source": [
        "var1 = np.array([1,2,3,4])\n",
        "var2 = np.array([5,6,7,8])\n",
        "varadd = var1 ** var2\n",
        "print(varadd)"
      ],
      "metadata": {
        "colab": {
          "base_uri": "https://localhost:8080/"
        },
        "id": "Spx-7v8_mCeG",
        "outputId": "0da04eed-7de8-4288-a53c-bcc431c6315b"
      },
      "execution_count": 7,
      "outputs": [
        {
          "output_type": "stream",
          "name": "stdout",
          "text": [
            "[    1    64  2187 65536]\n"
          ]
        }
      ]
    },
    {
      "cell_type": "code",
      "source": [
        "var1 = np.array([1,2,3,4])\n",
        "varadd = np.reciprocal(var1)\n",
        "print(varadd)"
      ],
      "metadata": {
        "colab": {
          "base_uri": "https://localhost:8080/"
        },
        "id": "B1qidW3jmME9",
        "outputId": "bb4e16fc-a478-45e2-9f09-2ccd02a80d0f"
      },
      "execution_count": 8,
      "outputs": [
        {
          "output_type": "stream",
          "name": "stdout",
          "text": [
            "[1 0 0 0]\n"
          ]
        }
      ]
    },
    {
      "cell_type": "markdown",
      "source": [
        "2D array"
      ],
      "metadata": {
        "id": "lM2bcNM7ksuI"
      }
    },
    {
      "cell_type": "code",
      "source": [
        "var21 = np.array([[1,2,3,4],[5,6,7,8]])\n",
        "varadd = np.add(var21,3)\n",
        "print(varadd)"
      ],
      "metadata": {
        "colab": {
          "base_uri": "https://localhost:8080/"
        },
        "id": "uBLH-fWemvKi",
        "outputId": "9821e1bb-d31e-4c63-b0b3-1317edf5dfc0"
      },
      "execution_count": 9,
      "outputs": [
        {
          "output_type": "stream",
          "name": "stdout",
          "text": [
            "[[ 4  5  6  7]\n",
            " [ 8  9 10 11]]\n"
          ]
        }
      ]
    },
    {
      "cell_type": "code",
      "source": [
        "var21 = np.array([[1,2,3,4],[5,6,7,8]])\n",
        "varadd = np.multiply(var21,3)\n",
        "print(varadd)"
      ],
      "metadata": {
        "colab": {
          "base_uri": "https://localhost:8080/"
        },
        "id": "RXbdAFfgnUEr",
        "outputId": "bb9ef086-d8ad-4a76-c81a-a677f3dcb871"
      },
      "execution_count": 10,
      "outputs": [
        {
          "output_type": "stream",
          "name": "stdout",
          "text": [
            "[[ 3  6  9 12]\n",
            " [15 18 21 24]]\n"
          ]
        }
      ]
    },
    {
      "cell_type": "code",
      "source": [
        "var21 = np.array([[1,2,3,4],[5,6,7,8]])\n",
        "varadd = np.reciprocal(var21)\n",
        "print(varadd)"
      ],
      "metadata": {
        "colab": {
          "base_uri": "https://localhost:8080/"
        },
        "id": "U7z6j81zna0-",
        "outputId": "1a7bfcc5-645a-4f62-8456-e6e79df22834"
      },
      "execution_count": 11,
      "outputs": [
        {
          "output_type": "stream",
          "name": "stdout",
          "text": [
            "[[1 0 0 0]\n",
            " [0 0 0 0]]\n"
          ]
        }
      ]
    },
    {
      "cell_type": "code",
      "source": [
        "var21 = np.array([[1,2,3,4],[5,6,7,8]])\n",
        "var22 = np.array([[1,2,3,4],[5,6,7,8]])\n",
        "varadd = np.multiply(var21,var22)\n",
        "print(varadd)"
      ],
      "metadata": {
        "colab": {
          "base_uri": "https://localhost:8080/"
        },
        "id": "E1vzSRAwnhoK",
        "outputId": "6383b75c-5329-4bb9-ca1c-0375774d4174"
      },
      "execution_count": 12,
      "outputs": [
        {
          "output_type": "stream",
          "name": "stdout",
          "text": [
            "[[ 1  4  9 16]\n",
            " [25 36 49 64]]\n"
          ]
        }
      ]
    },
    {
      "cell_type": "code",
      "source": [
        "var21 = np.array([[1,2,3,4],[5,6,7,8]])\n",
        "var22 = np.array([[1,2,3,4],[5,6,7,8]])\n",
        "varadd = np.power(var21,var22)\n",
        "print(varadd)"
      ],
      "metadata": {
        "colab": {
          "base_uri": "https://localhost:8080/"
        },
        "id": "D2tuhSyfnvFH",
        "outputId": "8b15578b-2ca8-47e9-db0d-2812253579ee"
      },
      "execution_count": 13,
      "outputs": [
        {
          "output_type": "stream",
          "name": "stdout",
          "text": [
            "[[       1        4       27      256]\n",
            " [    3125    46656   823543 16777216]]\n"
          ]
        }
      ]
    }
  ]
}